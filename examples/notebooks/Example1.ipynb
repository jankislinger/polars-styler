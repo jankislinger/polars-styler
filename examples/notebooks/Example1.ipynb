{
 "cells": [
  {
   "cell_type": "code",
   "execution_count": null,
   "id": "9c3dfc27-2527-44e1-949c-ddde103aced3",
   "metadata": {},
   "outputs": [],
   "source": [
    "import math\n",
    "\n",
    "import polars as pl"
   ]
  },
  {
   "cell_type": "code",
   "execution_count": null,
   "id": "bada2e7a-086e-4be4-9479-31e30d03b7d0",
   "metadata": {},
   "outputs": [],
   "source": [
    "class Styler:\n",
    "\n",
    "    def __init__(self, s):\n",
    "        self._s = s\n",
    "        \n",
    "    def set_precision(self, precision):\n",
    "        self._s.set_precision(precision)\n",
    "        return self\n",
    "        \n",
    "    def background_gradient(self, column):\n",
    "        self._s.background_gradient(column)\n",
    "        return self\n",
    "\n",
    "    def _repr_html_(self):\n",
    "        return self._s.render()\n",
    "\n",
    "        \n",
    "def style(df_self):\n",
    "    # use this to patch pl.DataFrame.style\n",
    "    from polars_styler import pydf_to_pystyler\n",
    "\n",
    "    py_styler = pydf_to_pystyler(df_self)\n",
    "    return Styler(py_styler)\n",
    "\n",
    "\n",
    "pl.DataFrame.style = style\n"
   ]
  },
  {
   "cell_type": "code",
   "execution_count": null,
   "id": "a407307f-cece-4fa5-b357-dcefecb5cbc2",
   "metadata": {},
   "outputs": [],
   "source": [
    "data = pl.DataFrame({\n",
    "    \"x\": [1, 2, 123_000],\n",
    "    \"y\": [math.pi, math.sqrt(2), 1/3]\n",
    "})\n",
    "data"
   ]
  },
  {
   "cell_type": "code",
   "execution_count": null,
   "id": "8ef555ed-ce55-4820-9e1c-7c03bd7246bd",
   "metadata": {},
   "outputs": [],
   "source": [
    "data.style().set_precision(3)"
   ]
  },
  {
   "cell_type": "code",
   "execution_count": null,
   "id": "8c9db6df-961e-48a9-8a42-3832875c92f4",
   "metadata": {},
   "outputs": [],
   "source": [
    "data.style().set_precision(1)"
   ]
  },
  {
   "cell_type": "code",
   "execution_count": null,
   "id": "561b7adf-63e8-4f09-a0b5-87ba206416f5",
   "metadata": {},
   "outputs": [],
   "source": [
    "data.style().background_gradient(\"y\")"
   ]
  }
 ],
 "metadata": {
  "language_info": {
   "name": "python"
  }
 },
 "nbformat": 4,
 "nbformat_minor": 5
}
