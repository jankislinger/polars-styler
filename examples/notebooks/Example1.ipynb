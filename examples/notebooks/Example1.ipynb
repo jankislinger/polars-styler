{
 "cells": [
  {
   "cell_type": "code",
   "execution_count": null,
   "id": "406373fd-41dd-4420-a933-107a54471f36",
   "metadata": {},
   "outputs": [],
   "source": [
    "!pip install ../.."
   ]
  },
  {
   "cell_type": "code",
   "execution_count": null,
   "id": "9c3dfc27-2527-44e1-949c-ddde103aced3",
   "metadata": {},
   "outputs": [],
   "source": [
    "import math\n",
    "\n",
    "import polars as pl\n",
    "from polars_styler.polars_styler import pydf_to_pystyler\n",
    "from polars_styler.styler import Styler, style"
   ]
  },
  {
   "cell_type": "code",
   "execution_count": null,
   "id": "a407307f-cece-4fa5-b357-dcefecb5cbc2",
   "metadata": {},
   "outputs": [],
   "source": [
    "data = pl.DataFrame({\n",
    "    \"x\": [1, 2, 123_000],\n",
    "    \"y\": [math.pi, math.sqrt(2), 1/3]\n",
    "})\n",
    "data"
   ]
  },
  {
   "cell_type": "markdown",
   "id": "b3fc41b0-48f6-400d-9d28-63dae880c9fc",
   "metadata": {},
   "source": [
    "## Format values"
   ]
  },
  {
   "cell_type": "code",
   "execution_count": null,
   "id": "8ef555ed-ce55-4820-9e1c-7c03bd7246bd",
   "metadata": {},
   "outputs": [],
   "source": [
    "data.style().set_precision(3)"
   ]
  },
  {
   "cell_type": "code",
   "execution_count": null,
   "id": "8c9db6df-961e-48a9-8a42-3832875c92f4",
   "metadata": {},
   "outputs": [],
   "source": [
    "data.style().set_precision(1)"
   ]
  },
  {
   "cell_type": "markdown",
   "id": "0b58313d-62ac-4c47-9c3a-6d7dd1c4d7cf",
   "metadata": {},
   "source": [
    "## Conditional formatting"
   ]
  },
  {
   "cell_type": "code",
   "execution_count": null,
   "id": "561b7adf-63e8-4f09-a0b5-87ba206416f5",
   "metadata": {},
   "outputs": [],
   "source": [
    "data.style().background_gradient(subset=[\"y\"])"
   ]
  },
  {
   "cell_type": "code",
   "execution_count": null,
   "id": "fbee200f-5cc6-4666-b037-18c9735bd390",
   "metadata": {},
   "outputs": [],
   "source": [
    "data.style().bar(subset=[\"y\"])"
   ]
  },
  {
   "cell_type": "markdown",
   "id": "31b0f251-9e1e-4e5d-856b-bd9cd46faa3f",
   "metadata": {},
   "source": [
    "## Labeling"
   ]
  },
  {
   "cell_type": "code",
   "execution_count": null,
   "id": "ee74fa82-d201-4274-b9fa-ac6fd967925a",
   "metadata": {},
   "outputs": [],
   "source": [
    "data.style().set_labels([\"First\", \"Second\"])"
   ]
  },
  {
   "cell_type": "code",
   "execution_count": null,
   "id": "a350279f-9577-4c32-afc1-b1dbb84fb5cc",
   "metadata": {},
   "outputs": [],
   "source": [
    "data.style().set_labels({\"x\": \"First\", \"y\": \"Second\"})"
   ]
  }
 ],
 "metadata": {
  "language_info": {
   "name": "python"
  }
 },
 "nbformat": 4,
 "nbformat_minor": 5
}
