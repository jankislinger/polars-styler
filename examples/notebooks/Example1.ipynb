{
 "cells": [
  {
   "cell_type": "code",
   "execution_count": 1,
   "id": "9c3dfc27-2527-44e1-949c-ddde103aced3",
   "metadata": {
    "execution": {
     "iopub.execute_input": "2023-06-21T05:56:19.185760Z",
     "iopub.status.busy": "2023-06-21T05:56:19.185274Z",
     "iopub.status.idle": "2023-06-21T05:56:19.254373Z",
     "shell.execute_reply": "2023-06-21T05:56:19.253922Z",
     "shell.execute_reply.started": "2023-06-21T05:56:19.185738Z"
    }
   },
   "outputs": [],
   "source": [
    "import math\n",
    "\n",
    "import polars as pl"
   ]
  },
  {
   "cell_type": "code",
   "execution_count": 2,
   "id": "bada2e7a-086e-4be4-9479-31e30d03b7d0",
   "metadata": {
    "execution": {
     "iopub.execute_input": "2023-06-21T05:56:20.319843Z",
     "iopub.status.busy": "2023-06-21T05:56:20.318714Z",
     "iopub.status.idle": "2023-06-21T05:56:20.325154Z",
     "shell.execute_reply": "2023-06-21T05:56:20.324433Z",
     "shell.execute_reply.started": "2023-06-21T05:56:20.319825Z"
    }
   },
   "outputs": [],
   "source": [
    "class Styler:\n",
    "\n",
    "    def __init__(self, s):\n",
    "        self._s = s\n",
    "        \n",
    "    def set_precision(self, precision):\n",
    "        self._s.set_precision(precision)\n",
    "        return self\n",
    "\n",
    "    def _repr_html_(self):\n",
    "        return self._s.render()\n",
    "\n",
    "        \n",
    "def style(df_self):\n",
    "    # use this to patch pl.DataFrame.style\n",
    "    from polars_styler import pydf_to_pystyler\n",
    "\n",
    "    py_styler = pydf_to_pystyler(df_self)\n",
    "    return Styler(py_styler)\n",
    "\n",
    "\n",
    "pl.DataFrame.style = style\n"
   ]
  },
  {
   "cell_type": "code",
   "execution_count": 3,
   "id": "a407307f-cece-4fa5-b357-dcefecb5cbc2",
   "metadata": {
    "execution": {
     "iopub.execute_input": "2023-06-21T05:56:23.760648Z",
     "iopub.status.busy": "2023-06-21T05:56:23.760150Z",
     "iopub.status.idle": "2023-06-21T05:56:23.783858Z",
     "shell.execute_reply": "2023-06-21T05:56:23.783126Z",
     "shell.execute_reply.started": "2023-06-21T05:56:23.760631Z"
    }
   },
   "outputs": [
    {
     "data": {
      "text/html": [
       "<div><style>\n",
       ".dataframe > thead > tr > th,\n",
       ".dataframe > tbody > tr > td {\n",
       "  text-align: right;\n",
       "}\n",
       "</style>\n",
       "<small>shape: (3, 2)</small><table border=\"1\" class=\"dataframe\"><thead><tr><th>x</th><th>y</th></tr><tr><td>i64</td><td>f64</td></tr></thead><tbody><tr><td>1</td><td>3.141593</td></tr><tr><td>2</td><td>1.414214</td></tr><tr><td>123000</td><td>0.333333</td></tr></tbody></table></div>"
      ],
      "text/plain": [
       "shape: (3, 2)\n",
       "┌────────┬──────────┐\n",
       "│ x      ┆ y        │\n",
       "│ ---    ┆ ---      │\n",
       "│ i64    ┆ f64      │\n",
       "╞════════╪══════════╡\n",
       "│ 1      ┆ 3.141593 │\n",
       "│ 2      ┆ 1.414214 │\n",
       "│ 123000 ┆ 0.333333 │\n",
       "└────────┴──────────┘"
      ]
     },
     "execution_count": 3,
     "metadata": {},
     "output_type": "execute_result"
    }
   ],
   "source": [
    "data = pl.DataFrame({\n",
    "    \"x\": [1, 2, 123_000],\n",
    "    \"y\": [math.pi, math.sqrt(2), 1/3]\n",
    "})\n",
    "data"
   ]
  },
  {
   "cell_type": "code",
   "execution_count": 4,
   "id": "8ef555ed-ce55-4820-9e1c-7c03bd7246bd",
   "metadata": {
    "execution": {
     "iopub.execute_input": "2023-06-21T05:56:28.259018Z",
     "iopub.status.busy": "2023-06-21T05:56:28.257935Z",
     "iopub.status.idle": "2023-06-21T05:56:28.457786Z",
     "shell.execute_reply": "2023-06-21T05:56:28.457183Z",
     "shell.execute_reply.started": "2023-06-21T05:56:28.258958Z"
    }
   },
   "outputs": [
    {
     "data": {
      "text/html": [
       "<div>\n",
       "  <style>\n",
       "  \n",
       "</style>\n",
       "  <table class=\"dataframe\"><thead><tr><th>x</th><th>y</th></tr></thead><tbody><tr><td id=\"T_asdf123_row0_col0\">1</td><td id=\"T_asdf123_row0_col1\">3.142</td></tr><tr><td id=\"T_asdf123_row1_col0\">2</td><td id=\"T_asdf123_row1_col1\">1.414</td></tr><tr><td id=\"T_asdf123_row2_col0\">123000</td><td id=\"T_asdf123_row2_col1\">0.333</td></tr></tbody></table>\n",
       "</div>"
      ],
      "text/plain": [
       "<__main__.Styler at 0x7fcfe8362b30>"
      ]
     },
     "execution_count": 4,
     "metadata": {},
     "output_type": "execute_result"
    }
   ],
   "source": [
    "data.style().set_precision(3)"
   ]
  },
  {
   "cell_type": "code",
   "execution_count": 5,
   "id": "8c9db6df-961e-48a9-8a42-3832875c92f4",
   "metadata": {
    "execution": {
     "iopub.execute_input": "2023-06-21T05:56:34.104487Z",
     "iopub.status.busy": "2023-06-21T05:56:34.104182Z",
     "iopub.status.idle": "2023-06-21T05:56:34.108061Z",
     "shell.execute_reply": "2023-06-21T05:56:34.107295Z",
     "shell.execute_reply.started": "2023-06-21T05:56:34.104471Z"
    }
   },
   "outputs": [
    {
     "data": {
      "text/html": [
       "<div>\n",
       "  <style>\n",
       "  \n",
       "</style>\n",
       "  <table class=\"dataframe\"><thead><tr><th>x</th><th>y</th></tr></thead><tbody><tr><td id=\"T_asdf123_row0_col0\">1</td><td id=\"T_asdf123_row0_col1\">3.1</td></tr><tr><td id=\"T_asdf123_row1_col0\">2</td><td id=\"T_asdf123_row1_col1\">1.4</td></tr><tr><td id=\"T_asdf123_row2_col0\">123000</td><td id=\"T_asdf123_row2_col1\">0.3</td></tr></tbody></table>\n",
       "</div>"
      ],
      "text/plain": [
       "<__main__.Styler at 0x7fcfcdfbae90>"
      ]
     },
     "execution_count": 5,
     "metadata": {},
     "output_type": "execute_result"
    }
   ],
   "source": [
    "data.style().set_precision(1)"
   ]
  }
 ],
 "metadata": {
  "kernelspec": {
   "display_name": "Python 3 (ipykernel)",
   "language": "python",
   "name": "python3"
  },
  "language_info": {
   "codemirror_mode": {
    "name": "ipython",
    "version": 3
   },
   "file_extension": ".py",
   "mimetype": "text/x-python",
   "name": "python",
   "nbconvert_exporter": "python",
   "pygments_lexer": "ipython3",
   "version": "3.10.6"
  }
 },
 "nbformat": 4,
 "nbformat_minor": 5
}
