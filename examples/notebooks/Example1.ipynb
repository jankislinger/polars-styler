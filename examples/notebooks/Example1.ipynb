{
 "cells": [
  {
   "cell_type": "code",
   "execution_count": 1,
   "id": "406373fd-41dd-4420-a933-107a54471f36",
   "metadata": {
    "execution": {
     "iopub.execute_input": "2023-07-16T15:08:59.344887Z",
     "iopub.status.busy": "2023-07-16T15:08:59.344403Z",
     "iopub.status.idle": "2023-07-16T15:09:22.662490Z",
     "shell.execute_reply": "2023-07-16T15:09:22.660753Z",
     "shell.execute_reply.started": "2023-07-16T15:08:59.344838Z"
    }
   },
   "outputs": [
    {
     "name": "stdout",
     "output_type": "stream",
     "text": [
      "Processing /home/jan/stubs/polars-styler\n",
      "  Installing build dependencies ... \u001b[?25ldone\n",
      "\u001b[?25h  Getting requirements to build wheel ... \u001b[?25ldone\n",
      "\u001b[?25h  Preparing metadata (pyproject.toml) ... \u001b[?25ldone\n",
      "\u001b[?25hRequirement already satisfied: polars~=0.18.2 in /home/jan/.cache/pypoetry/virtualenvs/notebooks-Cxn2AXfu-py3.10/lib/python3.10/site-packages (from polars_styler==0.1.0) (0.18.2)\n",
      "Requirement already satisfied: pyarrow~=12.0.1 in /home/jan/.cache/pypoetry/virtualenvs/notebooks-Cxn2AXfu-py3.10/lib/python3.10/site-packages (from polars_styler==0.1.0) (12.0.1)\n",
      "Requirement already satisfied: numpy>=1.16.6 in /home/jan/.cache/pypoetry/virtualenvs/notebooks-Cxn2AXfu-py3.10/lib/python3.10/site-packages (from pyarrow~=12.0.1->polars_styler==0.1.0) (1.24.3)\n",
      "Building wheels for collected packages: polars_styler\n",
      "  Building wheel for polars_styler (pyproject.toml) ... \u001b[?25ldone\n",
      "\u001b[?25h  Created wheel for polars_styler: filename=polars_styler-0.1.0-cp310-cp310-linux_x86_64.whl size=4748515 sha256=615b7130595b9d9967cdff2ddbefea3da17dbdbea2e2bd565baa27e7f9a4c206\n",
      "  Stored in directory: /home/jan/.cache/pip/wheels/6d/57/a5/ae707c1f6e3d1a3e80536167b5ca4e20f893b2bab3c5db15f1\n",
      "Successfully built polars_styler\n",
      "Installing collected packages: polars_styler\n",
      "  Attempting uninstall: polars_styler\n",
      "    Found existing installation: polars_styler 0.1.0\n",
      "    Uninstalling polars_styler-0.1.0:\n",
      "      Successfully uninstalled polars_styler-0.1.0\n",
      "Successfully installed polars_styler-0.1.0\n",
      "\n",
      "\u001b[1m[\u001b[0m\u001b[34;49mnotice\u001b[0m\u001b[1;39;49m]\u001b[0m\u001b[39;49m A new release of pip is available: \u001b[0m\u001b[31;49m23.1.2\u001b[0m\u001b[39;49m -> \u001b[0m\u001b[32;49m23.2\u001b[0m\n",
      "\u001b[1m[\u001b[0m\u001b[34;49mnotice\u001b[0m\u001b[1;39;49m]\u001b[0m\u001b[39;49m To update, run: \u001b[0m\u001b[32;49mpip install --upgrade pip\u001b[0m\n"
     ]
    }
   ],
   "source": [
    "!pip install ../.."
   ]
  },
  {
   "cell_type": "code",
   "execution_count": 2,
   "id": "9c3dfc27-2527-44e1-949c-ddde103aced3",
   "metadata": {
    "execution": {
     "iopub.execute_input": "2023-07-16T15:09:22.665309Z",
     "iopub.status.busy": "2023-07-16T15:09:22.664642Z",
     "iopub.status.idle": "2023-07-16T15:09:22.786320Z",
     "shell.execute_reply": "2023-07-16T15:09:22.784628Z",
     "shell.execute_reply.started": "2023-07-16T15:09:22.665253Z"
    }
   },
   "outputs": [],
   "source": [
    "import math\n",
    "\n",
    "import polars as pl\n",
    "from polars_styler.polars_styler import pydf_to_pystyler\n",
    "from polars_styler.styler import Styler, style"
   ]
  },
  {
   "cell_type": "code",
   "execution_count": 3,
   "id": "a407307f-cece-4fa5-b357-dcefecb5cbc2",
   "metadata": {
    "execution": {
     "iopub.execute_input": "2023-07-16T15:09:22.788278Z",
     "iopub.status.busy": "2023-07-16T15:09:22.787899Z",
     "iopub.status.idle": "2023-07-16T15:09:22.819208Z",
     "shell.execute_reply": "2023-07-16T15:09:22.817828Z",
     "shell.execute_reply.started": "2023-07-16T15:09:22.788239Z"
    }
   },
   "outputs": [
    {
     "data": {
      "text/html": [
       "<div><style>\n",
       ".dataframe > thead > tr > th,\n",
       ".dataframe > tbody > tr > td {\n",
       "  text-align: right;\n",
       "}\n",
       "</style>\n",
       "<small>shape: (3, 2)</small><table border=\"1\" class=\"dataframe\"><thead><tr><th>x</th><th>y</th></tr><tr><td>i64</td><td>f64</td></tr></thead><tbody><tr><td>1</td><td>3.141593</td></tr><tr><td>2</td><td>1.414214</td></tr><tr><td>123000</td><td>0.333333</td></tr></tbody></table></div>"
      ],
      "text/plain": [
       "shape: (3, 2)\n",
       "┌────────┬──────────┐\n",
       "│ x      ┆ y        │\n",
       "│ ---    ┆ ---      │\n",
       "│ i64    ┆ f64      │\n",
       "╞════════╪══════════╡\n",
       "│ 1      ┆ 3.141593 │\n",
       "│ 2      ┆ 1.414214 │\n",
       "│ 123000 ┆ 0.333333 │\n",
       "└────────┴──────────┘"
      ]
     },
     "execution_count": 3,
     "metadata": {},
     "output_type": "execute_result"
    }
   ],
   "source": [
    "data = pl.DataFrame({\n",
    "    \"x\": [1, 2, 123_000],\n",
    "    \"y\": [math.pi, math.sqrt(2), 1/3]\n",
    "})\n",
    "data"
   ]
  },
  {
   "cell_type": "markdown",
   "id": "b3fc41b0-48f6-400d-9d28-63dae880c9fc",
   "metadata": {},
   "source": [
    "## Format values"
   ]
  },
  {
   "cell_type": "code",
   "execution_count": 4,
   "id": "8ef555ed-ce55-4820-9e1c-7c03bd7246bd",
   "metadata": {
    "execution": {
     "iopub.execute_input": "2023-07-16T15:09:22.822820Z",
     "iopub.status.busy": "2023-07-16T15:09:22.822388Z",
     "iopub.status.idle": "2023-07-16T15:09:23.128725Z",
     "shell.execute_reply": "2023-07-16T15:09:23.127362Z",
     "shell.execute_reply.started": "2023-07-16T15:09:22.822787Z"
    }
   },
   "outputs": [
    {
     "data": {
      "text/html": [
       "<div>\n",
       "  <style>\n",
       "  \n",
       "</style>\n",
       "  <table class=\"dataframe\"><thead><tr><th>x</th><th>y</th></tr></thead><tbody><tr><td id=\"T_17a5a_row0_col0\">1</td><td id=\"T_17a5a_row0_col1\">3.142</td></tr><tr><td id=\"T_17a5a_row1_col0\">2</td><td id=\"T_17a5a_row1_col1\">1.414</td></tr><tr><td id=\"T_17a5a_row2_col0\">123000</td><td id=\"T_17a5a_row2_col1\">0.333</td></tr></tbody></table>\n",
       "</div>"
      ],
      "text/plain": [
       "<polars_styler.styler.Styler at 0x7f5af992c310>"
      ]
     },
     "execution_count": 4,
     "metadata": {},
     "output_type": "execute_result"
    }
   ],
   "source": [
    "data.style().set_precision(3)"
   ]
  },
  {
   "cell_type": "code",
   "execution_count": 5,
   "id": "8c9db6df-961e-48a9-8a42-3832875c92f4",
   "metadata": {
    "execution": {
     "iopub.execute_input": "2023-07-16T15:09:23.130722Z",
     "iopub.status.busy": "2023-07-16T15:09:23.130192Z",
     "iopub.status.idle": "2023-07-16T15:09:23.142665Z",
     "shell.execute_reply": "2023-07-16T15:09:23.141131Z",
     "shell.execute_reply.started": "2023-07-16T15:09:23.130689Z"
    }
   },
   "outputs": [
    {
     "data": {
      "text/html": [
       "<div>\n",
       "  <style>\n",
       "  \n",
       "</style>\n",
       "  <table class=\"dataframe\"><thead><tr><th>x</th><th>y</th></tr></thead><tbody><tr><td id=\"T_36b31e_row0_col0\">1</td><td id=\"T_36b31e_row0_col1\">3.1</td></tr><tr><td id=\"T_36b31e_row1_col0\">2</td><td id=\"T_36b31e_row1_col1\">1.4</td></tr><tr><td id=\"T_36b31e_row2_col0\">123000</td><td id=\"T_36b31e_row2_col1\">0.3</td></tr></tbody></table>\n",
       "</div>"
      ],
      "text/plain": [
       "<polars_styler.styler.Styler at 0x7f5af01d30a0>"
      ]
     },
     "execution_count": 5,
     "metadata": {},
     "output_type": "execute_result"
    }
   ],
   "source": [
    "data.style().set_precision(1)"
   ]
  },
  {
   "cell_type": "markdown",
   "id": "0b58313d-62ac-4c47-9c3a-6d7dd1c4d7cf",
   "metadata": {},
   "source": [
    "## Conditional formatting"
   ]
  },
  {
   "cell_type": "code",
   "execution_count": 6,
   "id": "561b7adf-63e8-4f09-a0b5-87ba206416f5",
   "metadata": {
    "execution": {
     "iopub.execute_input": "2023-07-16T15:09:23.145870Z",
     "iopub.status.busy": "2023-07-16T15:09:23.145133Z",
     "iopub.status.idle": "2023-07-16T15:09:23.159833Z",
     "shell.execute_reply": "2023-07-16T15:09:23.157426Z",
     "shell.execute_reply.started": "2023-07-16T15:09:23.145806Z"
    }
   },
   "outputs": [
    {
     "data": {
      "text/html": [
       "<div>\n",
       "  <style>\n",
       "  #T_a31e1e_row1_col1 {background-color: rgba(255, 0, 0, 0.3848933176639991)}\n",
       "  #T_a31e1e_row2_col1 {background-color: rgba(255, 0, 0, -0.0000000035374609682311)}\n",
       "  #T_a31e1e_row0_col1 {background-color: rgba(255, 0, 0, 1.0000000219313199)}\n",
       "</style>\n",
       "  <table class=\"dataframe\"><thead><tr><th>x</th><th>y</th></tr></thead><tbody><tr><td id=\"T_a31e1e_row0_col0\">1</td><td id=\"T_a31e1e_row0_col1\">3.141592653589793</td></tr><tr><td id=\"T_a31e1e_row1_col0\">2</td><td id=\"T_a31e1e_row1_col1\">1.4142135623730951</td></tr><tr><td id=\"T_a31e1e_row2_col0\">123000</td><td id=\"T_a31e1e_row2_col1\">0.3333333333333333</td></tr></tbody></table>\n",
       "</div>"
      ],
      "text/plain": [
       "<polars_styler.styler.Styler at 0x7f5af98f1ba0>"
      ]
     },
     "execution_count": 6,
     "metadata": {},
     "output_type": "execute_result"
    }
   ],
   "source": [
    "data.style().background_gradient(subset=[\"y\"])"
   ]
  },
  {
   "cell_type": "code",
   "execution_count": 7,
   "id": "fbee200f-5cc6-4666-b037-18c9735bd390",
   "metadata": {
    "execution": {
     "iopub.execute_input": "2023-07-16T15:09:23.163263Z",
     "iopub.status.busy": "2023-07-16T15:09:23.162183Z",
     "iopub.status.idle": "2023-07-16T15:09:23.175225Z",
     "shell.execute_reply": "2023-07-16T15:09:23.173789Z",
     "shell.execute_reply.started": "2023-07-16T15:09:23.163193Z"
    }
   },
   "outputs": [
    {
     "data": {
      "text/html": [
       "<div>\n",
       "  <style>\n",
       "  #T_28b3f0_row0_col1 {background: linear-gradient(90deg, #ff0000 100%, transparent 100%, transparent 100%)}\n",
       "  #T_28b3f0_row1_col1 {background: linear-gradient(90deg, #ff0000 38%, transparent 38%, transparent 100%)}\n",
       "  #T_28b3f0_row2_col1 {background: linear-gradient(90deg, #ff0000 0%, transparent 0%, transparent 100%)}\n",
       "</style>\n",
       "  <table class=\"dataframe\"><thead><tr><th>x</th><th>y</th></tr></thead><tbody><tr><td id=\"T_28b3f0_row0_col0\">1</td><td id=\"T_28b3f0_row0_col1\">3.141592653589793</td></tr><tr><td id=\"T_28b3f0_row1_col0\">2</td><td id=\"T_28b3f0_row1_col1\">1.4142135623730951</td></tr><tr><td id=\"T_28b3f0_row2_col0\">123000</td><td id=\"T_28b3f0_row2_col1\">0.3333333333333333</td></tr></tbody></table>\n",
       "</div>"
      ],
      "text/plain": [
       "<polars_styler.styler.Styler at 0x7f5af98f2a10>"
      ]
     },
     "execution_count": 7,
     "metadata": {},
     "output_type": "execute_result"
    }
   ],
   "source": [
    "data.style().bar(subset=[\"y\"])"
   ]
  },
  {
   "cell_type": "markdown",
   "id": "31b0f251-9e1e-4e5d-856b-bd9cd46faa3f",
   "metadata": {},
   "source": [
    "## Labeling"
   ]
  },
  {
   "cell_type": "code",
   "execution_count": 8,
   "id": "ee74fa82-d201-4274-b9fa-ac6fd967925a",
   "metadata": {
    "execution": {
     "iopub.execute_input": "2023-07-16T15:09:23.178130Z",
     "iopub.status.busy": "2023-07-16T15:09:23.177420Z",
     "iopub.status.idle": "2023-07-16T15:09:23.191481Z",
     "shell.execute_reply": "2023-07-16T15:09:23.189647Z",
     "shell.execute_reply.started": "2023-07-16T15:09:23.178071Z"
    }
   },
   "outputs": [
    {
     "data": {
      "text/html": [
       "<div>\n",
       "  <style>\n",
       "  \n",
       "</style>\n",
       "  <table class=\"dataframe\"><thead><tr><th>First</th><th>Second</th></tr></thead><tbody><tr><td id=\"T_a6d961_row0_col0\">1</td><td id=\"T_a6d961_row0_col1\">3.141592653589793</td></tr><tr><td id=\"T_a6d961_row1_col0\">2</td><td id=\"T_a6d961_row1_col1\">1.4142135623730951</td></tr><tr><td id=\"T_a6d961_row2_col0\">123000</td><td id=\"T_a6d961_row2_col1\">0.3333333333333333</td></tr></tbody></table>\n",
       "</div>"
      ],
      "text/plain": [
       "<polars_styler.styler.Styler at 0x7f5af01d3010>"
      ]
     },
     "execution_count": 8,
     "metadata": {},
     "output_type": "execute_result"
    }
   ],
   "source": [
    "data.style().set_labels([\"First\", \"Second\"])"
   ]
  },
  {
   "cell_type": "code",
   "execution_count": 9,
   "id": "a350279f-9577-4c32-afc1-b1dbb84fb5cc",
   "metadata": {
    "execution": {
     "iopub.execute_input": "2023-07-16T15:09:23.194578Z",
     "iopub.status.busy": "2023-07-16T15:09:23.193747Z",
     "iopub.status.idle": "2023-07-16T15:09:23.207276Z",
     "shell.execute_reply": "2023-07-16T15:09:23.205570Z",
     "shell.execute_reply.started": "2023-07-16T15:09:23.194516Z"
    }
   },
   "outputs": [
    {
     "data": {
      "text/html": [
       "<div>\n",
       "  <style>\n",
       "  \n",
       "</style>\n",
       "  <table class=\"dataframe\"><thead><tr><th>First</th><th>Second</th></tr></thead><tbody><tr><td id=\"T_23c4f3_row0_col0\">1</td><td id=\"T_23c4f3_row0_col1\">3.141592653589793</td></tr><tr><td id=\"T_23c4f3_row1_col0\">2</td><td id=\"T_23c4f3_row1_col1\">1.4142135623730951</td></tr><tr><td id=\"T_23c4f3_row2_col0\">123000</td><td id=\"T_23c4f3_row2_col1\">0.3333333333333333</td></tr></tbody></table>\n",
       "</div>"
      ],
      "text/plain": [
       "<polars_styler.styler.Styler at 0x7f5af992d840>"
      ]
     },
     "execution_count": 9,
     "metadata": {},
     "output_type": "execute_result"
    }
   ],
   "source": [
    "data.style().set_labels({\"x\": \"First\", \"y\": \"Second\"})"
   ]
  }
 ],
 "metadata": {
  "kernelspec": {
   "display_name": "Python 3 (ipykernel)",
   "language": "python",
   "name": "python3"
  },
  "language_info": {
   "codemirror_mode": {
    "name": "ipython",
    "version": 3
   },
   "file_extension": ".py",
   "mimetype": "text/x-python",
   "name": "python",
   "nbconvert_exporter": "python",
   "pygments_lexer": "ipython3",
   "version": "3.10.6"
  }
 },
 "nbformat": 4,
 "nbformat_minor": 5
}
